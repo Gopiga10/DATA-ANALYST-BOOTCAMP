{
 "cells": [
  {
   "cell_type": "code",
   "execution_count": 1,
   "id": "20849baf-77e1-4117-8c8e-f1570b7bffec",
   "metadata": {},
   "outputs": [],
   "source": [
    "import pandas as pd\n",
    "\n",
    "all_data = []  \n",
    "all_data.append([\"IPL 2021\", \"2021\", \"MI vs CSK\", \"Wankhede Stadium\", \"2021-04-10\",\n",
    "                 \"MI\", \"180/5\", \"CSK\", \"175/7\", \"1.1\", \"Bumrah\", \"Dhoni\",\n",
    "                 \"Legal\", \"Cover Drive\", \"140\", 4])\n",
    "\n",
    "all_data.append([\"IPL 2022\", \"2022\", \"RCB vs KKR\", \"Chinnaswamy\", \"2022-04-12\",\n",
    "                 \"RCB\", \"160/7\", \"KKR\", \"155/8\", \"3.2\", \"Ferguson\", \"Kohli\",\n",
    "                 \"Legal\", \"Pull Shot\", \"145\", 6])\n",
    "\n",
    "# Define column names\n",
    "columns = [\"Series Name\", \"Series Year\", \"Match Name\", \"Match Venue\", \"Match Date\",\n",
    "           \"Team 1\", \"Team 1 Score\", \"Team 2\", \"Team 2 Score\",\n",
    "           \"Over\", \"Bowler\", \"Batter\", \"Ball Type\", \"Shot Type\", \"Speed (km/h)\", \"Runs\"]\n",
    "\n",
    "df = pd.DataFrame(all_data, columns=columns)"
   ]
  },
  {
   "cell_type": "code",
   "execution_count": 3,
   "id": "f3efe6bc-d6a9-4a11-961b-830110b73b77",
   "metadata": {},
   "outputs": [
    {
     "name": "stdout",
     "output_type": "stream",
     "text": [
      "Series Name Series Year Match Name      Match Venue Match Date Team 1 Team 1 Score Team 2 Team 2 Score Over   Bowler Batter Ball Type   Shot Type Speed (km/h)  Runs\n",
      "   IPL 2021        2021  MI vs CSK Wankhede Stadium 2021-04-10     MI        180/5    CSK        175/7  1.1   Bumrah  Dhoni     Legal Cover Drive          140     4\n",
      "   IPL 2022        2022 RCB vs KKR      Chinnaswamy 2022-04-12    RCB        160/7    KKR        155/8  3.2 Ferguson  Kohli     Legal   Pull Shot          145     6\n"
     ]
    }
   ],
   "source": [
    "pd.set_option(\"display.max_rows\", None)  \n",
    "pd.set_option(\"display.max_columns\", None)  \n",
    "pd.set_option(\"display.expand_frame_repr\", False)  \n",
    "\n",
    "print(df.to_string(index=False))"
   ]
  },
  {
   "cell_type": "code",
   "execution_count": 5,
   "id": "11ef2ce8-3bbb-46b3-a428-cc208872a14a",
   "metadata": {},
   "outputs": [
    {
     "name": "stdout",
     "output_type": "stream",
     "text": [
      " Data successfully saved to 'dataset.csv'\n"
     ]
    }
   ],
   "source": [
    "csv_filename = \"dataset.csv\"\n",
    "df.to_csv(csv_filename, index=False)\n",
    "\n",
    "print(f\" Data successfully saved to '{csv_filename}'\")"
   ]
  },
  {
   "cell_type": "code",
   "execution_count": null,
   "id": "dee45bc5-ef1a-47e2-9125-63bbe6b512d3",
   "metadata": {},
   "outputs": [],
   "source": []
  }
 ],
 "metadata": {
  "kernelspec": {
   "display_name": "Python 3 (ipykernel)",
   "language": "python",
   "name": "python3"
  },
  "language_info": {
   "codemirror_mode": {
    "name": "ipython",
    "version": 3
   },
   "file_extension": ".py",
   "mimetype": "text/x-python",
   "name": "python",
   "nbconvert_exporter": "python",
   "pygments_lexer": "ipython3",
   "version": "3.12.4"
  }
 },
 "nbformat": 4,
 "nbformat_minor": 5
}
