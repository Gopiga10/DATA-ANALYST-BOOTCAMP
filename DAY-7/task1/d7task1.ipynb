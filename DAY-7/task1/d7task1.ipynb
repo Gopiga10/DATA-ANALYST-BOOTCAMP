{
 "cells": [
  {
   "cell_type": "code",
   "execution_count": 2,
   "id": "2486c289-78dc-408a-b8e9-8bcf7699a39d",
   "metadata": {},
   "outputs": [
    {
     "name": "stdout",
     "output_type": "stream",
     "text": [
      "Cell Phones Data:\n",
      "        country  1960  1961  1962  1963  1964  1965  1966  1967  1968  ...  \\\n",
      "0        Aruba   0.0   NaN   NaN   NaN   NaN   0.0   NaN   NaN   NaN  ...   \n",
      "1  Afghanistan   0.0   NaN   NaN   NaN   NaN   0.0   NaN   NaN   NaN  ...   \n",
      "2       Angola   0.0   NaN   NaN   NaN   NaN   0.0   NaN   NaN   NaN  ...   \n",
      "3      Albania   0.0   NaN   NaN   NaN   NaN   0.0   NaN   NaN   NaN  ...   \n",
      "4      Andorra   0.0   NaN   NaN   NaN   NaN   0.0   NaN   NaN   NaN  ...   \n",
      "\n",
      "    2014   2015   2016   2017   2018   2019   2020   2021   2022   2023  \n",
      "0   140k   141k    NaN    NaN    NaN   141k   141k   141k    NaN    NaN  \n",
      "1  18.4M  19.7M  21.6M  23.9M    22M  22.6M  22.7M  22.7M  22.8M    23M  \n",
      "2  14.1M  13.9M    13M  13.3M  13.3M  14.8M  14.6M  15.3M  23.7M  25.7M  \n",
      "3  3.36M   3.4M  3.37M  3.63M  2.71M  2.63M  2.62M  2.64M  2.78M  2.61M  \n",
      "4  66.2k  71.3k  76.1k  80.3k  82.6k  87.9k  80.4k  93.8k   114k   126k  \n",
      "\n",
      "[5 rows x 65 columns]\n",
      "\n",
      "Population Data:\n",
      "        country   1800   1801   1802   1803   1804   1805   1806   1807   1808  \\\n",
      "0  Afghanistan  3.28M  3.28M  3.28M  3.28M  3.28M  3.28M  3.28M  3.28M  3.28M   \n",
      "1       Angola  1.57M  1.57M  1.57M  1.57M  1.57M  1.57M  1.57M  1.57M  1.57M   \n",
      "2      Albania   400k   402k   404k   405k   407k   409k   411k   413k   414k   \n",
      "3      Andorra   2650   2650   2650   2650   2650   2650   2650   2650   2650   \n",
      "4          UAE  40.2k  40.2k  40.2k  40.2k  40.2k  40.2k  40.2k  40.2k  40.2k   \n",
      "\n",
      "   ...   2091   2092   2093   2094   2095   2096   2097   2098   2099   2100  \n",
      "0  ...   124M   125M   126M   126M   127M   128M   128M   129M   130M   130M  \n",
      "1  ...   139M   140M   142M   143M   144M   145M   147M   148M   149M   150M  \n",
      "2  ...  1.34M  1.32M   1.3M  1.29M  1.27M  1.25M  1.23M  1.22M   1.2M  1.18M  \n",
      "3  ...  52.8k  52.1k  51.5k  50.8k  50.2k  49.6k    49k  48.4k  47.8k  47.2k  \n",
      "4  ...  24.1M  24.3M  24.5M  24.7M    25M  25.2M  25.4M  25.7M  25.9M  26.1M  \n",
      "\n",
      "[5 rows x 302 columns]\n"
     ]
    }
   ],
   "source": [
    "import pandas as pd  \n",
    "\n",
    "# Load CSV files into Pandas DataFrames  \n",
    "cell_phones_df = pd.read_csv(\"cell_phones_total.csv\")  # Replace with your actual file name  \n",
    "population_df = pd.read_csv(\"pop.csv\")  # Replace with your actual file name  \n",
    "\n",
    "# Display first few rows of the datasets  \n",
    "print(\"Cell Phones Data:\\n\", cell_phones_df.head())  \n",
    "print(\"\\nPopulation Data:\\n\", population_df.head())  \n"
   ]
  },
  {
   "cell_type": "code",
   "execution_count": 3,
   "id": "4318cd32-de83-4737-b729-f9670680e7c8",
   "metadata": {},
   "outputs": [
    {
     "name": "stdout",
     "output_type": "stream",
     "text": [
      "Connected to MySQL successfully!\n"
     ]
    }
   ],
   "source": [
    "import mysql.connector  \n",
    "\n",
    "# Establish connection\n",
    "conn = mysql.connector.connect(\n",
    "    host=\"localhost\",\n",
    "    user=\"root\",       # Replace with your MySQL username if different\n",
    "    password=\"root\",   # Replace with your MySQL password\n",
    "    database=\"bootcamp\"  # Make sure this database exists\n",
    ")\n",
    "\n",
    "cursor = conn.cursor()\n",
    "print(\"Connected to MySQL successfully!\")\n"
   ]
  },
  {
   "cell_type": "code",
   "execution_count": 4,
   "id": "95fb7fd4-456e-4501-afff-a2ce17a29364",
   "metadata": {},
   "outputs": [
    {
     "name": "stdout",
     "output_type": "stream",
     "text": [
      "       country  1960  1961  1962  1963  1964  1965  1966  1967  1968  ...  \\\n",
      "0        Aruba   0.0   NaN   NaN   NaN   NaN   0.0   NaN   NaN   NaN  ...   \n",
      "1  Afghanistan   0.0   NaN   NaN   NaN   NaN   0.0   NaN   NaN   NaN  ...   \n",
      "2       Angola   0.0   NaN   NaN   NaN   NaN   0.0   NaN   NaN   NaN  ...   \n",
      "3      Albania   0.0   NaN   NaN   NaN   NaN   0.0   NaN   NaN   NaN  ...   \n",
      "4      Andorra   0.0   NaN   NaN   NaN   NaN   0.0   NaN   NaN   NaN  ...   \n",
      "\n",
      "    2014   2015   2016   2017   2018   2019   2020   2021   2022   2023  \n",
      "0   140k   141k    NaN    NaN    NaN   141k   141k   141k    NaN    NaN  \n",
      "1  18.4M  19.7M  21.6M  23.9M    22M  22.6M  22.7M  22.7M  22.8M    23M  \n",
      "2  14.1M  13.9M    13M  13.3M  13.3M  14.8M  14.6M  15.3M  23.7M  25.7M  \n",
      "3  3.36M   3.4M  3.37M  3.63M  2.71M  2.63M  2.62M  2.64M  2.78M  2.61M  \n",
      "4  66.2k  71.3k  76.1k  80.3k  82.6k  87.9k  80.4k  93.8k   114k   126k  \n",
      "\n",
      "[5 rows x 65 columns]\n",
      "       country   1800   1801   1802   1803   1804   1805   1806   1807   1808  \\\n",
      "0  Afghanistan  3.28M  3.28M  3.28M  3.28M  3.28M  3.28M  3.28M  3.28M  3.28M   \n",
      "1       Angola  1.57M  1.57M  1.57M  1.57M  1.57M  1.57M  1.57M  1.57M  1.57M   \n",
      "2      Albania   400k   402k   404k   405k   407k   409k   411k   413k   414k   \n",
      "3      Andorra   2650   2650   2650   2650   2650   2650   2650   2650   2650   \n",
      "4          UAE  40.2k  40.2k  40.2k  40.2k  40.2k  40.2k  40.2k  40.2k  40.2k   \n",
      "\n",
      "   ...   2091   2092   2093   2094   2095   2096   2097   2098   2099   2100  \n",
      "0  ...   124M   125M   126M   126M   127M   128M   128M   129M   130M   130M  \n",
      "1  ...   139M   140M   142M   143M   144M   145M   147M   148M   149M   150M  \n",
      "2  ...  1.34M  1.32M   1.3M  1.29M  1.27M  1.25M  1.23M  1.22M   1.2M  1.18M  \n",
      "3  ...  52.8k  52.1k  51.5k  50.8k  50.2k  49.6k    49k  48.4k  47.8k  47.2k  \n",
      "4  ...  24.1M  24.3M  24.5M  24.7M    25M  25.2M  25.4M  25.7M  25.9M  26.1M  \n",
      "\n",
      "[5 rows x 302 columns]\n"
     ]
    }
   ],
   "source": [
    "import pandas as pd\n",
    "\n",
    "# Load the CSV files into Pandas DataFrames\n",
    "cell_df = pd.read_csv(\"cell_phones_total.csv\")  # Replace with your actual file path\n",
    "population_df = pd.read_csv(\"pop.csv\")  # Replace with your actual file path\n",
    "\n",
    "# Check if data is loaded correctly\n",
    "print(cell_df.head())  # Show first 5 rows\n",
    "print(population_df.head())\n"
   ]
  },
  {
   "cell_type": "code",
   "execution_count": 5,
   "id": "9ddc4902-9f9a-444d-b055-2df42b3fbff8",
   "metadata": {},
   "outputs": [
    {
     "name": "stdout",
     "output_type": "stream",
     "text": [
      "Index(['country', '1960', '1961', '1962', '1963', '1964', '1965', '1966',\n",
      "       '1967', '1968', '1969', '1970', '1971', '1972', '1973', '1974', '1975',\n",
      "       '1976', '1977', '1978', '1979', '1980', '1981', '1982', '1983', '1984',\n",
      "       '1985', '1986', '1987', '1988', '1989', '1990', '1991', '1992', '1993',\n",
      "       '1994', '1995', '1996', '1997', '1998', '1999', '2000', '2001', '2002',\n",
      "       '2003', '2004', '2005', '2006', '2007', '2008', '2009', '2010', '2011',\n",
      "       '2012', '2013', '2014', '2015', '2016', '2017', '2018', '2019', '2020',\n",
      "       '2021', '2022', '2023'],\n",
      "      dtype='object')\n"
     ]
    }
   ],
   "source": [
    "print(cell_df.columns)"
   ]
  },
  {
   "cell_type": "code",
   "execution_count": 6,
   "id": "70018442-5261-456d-9a4d-d39649f44255",
   "metadata": {},
   "outputs": [
    {
     "name": "stdout",
     "output_type": "stream",
     "text": [
      "Index(['country', '1960', '1961', '1962', '1963', '1964', '1965', '1966',\n",
      "       '1967', '1968', '1969', '1970', '1971', '1972', '1973', '1974', '1975',\n",
      "       '1976', '1977', '1978', '1979', '1980', '1981', '1982', '1983', '1984',\n",
      "       '1985', '1986', '1987', '1988', '1989', '1990', '1991', '1992', '1993',\n",
      "       '1994', '1995', '1996', '1997', '1998', '1999', '2000', '2001', '2002',\n",
      "       '2003', '2004', '2005', '2006', '2007', '2008', '2009', '2010', '2011',\n",
      "       '2012', '2013', '2014', '2015', '2016', '2017', '2018', '2019', '2020',\n",
      "       '2021', '2022', '2023'],\n",
      "      dtype='object')\n"
     ]
    }
   ],
   "source": [
    "cell_df.columns = cell_df.columns.str.strip()  # Remove spaces around column names\n",
    "print(cell_df.columns)  "
   ]
  },
  {
   "cell_type": "code",
   "execution_count": 9,
   "id": "9abbd6ee-f3e5-44dd-b17d-454d0d3659e0",
   "metadata": {},
   "outputs": [
    {
     "ename": "ProgrammingError",
     "evalue": "1146 (42S02): Table 'bootcamp.cell_phones' doesn't exist",
     "output_type": "error",
     "traceback": [
      "\u001b[1;31m---------------------------------------------------------------------------\u001b[0m",
      "\u001b[1;31mMySQLInterfaceError\u001b[0m                       Traceback (most recent call last)",
      "File \u001b[1;32mC:\\Python313\\Lib\\site-packages\\mysql\\connector\\connection_cext.py:755\u001b[0m, in \u001b[0;36mCMySQLConnection.cmd_query\u001b[1;34m(self, query, raw, buffered, raw_as_string, **kwargs)\u001b[0m\n\u001b[0;32m    754\u001b[0m         query \u001b[38;5;241m=\u001b[39m query\u001b[38;5;241m.\u001b[39mencode(\u001b[38;5;124m\"\u001b[39m\u001b[38;5;124mutf-8\u001b[39m\u001b[38;5;124m\"\u001b[39m)\n\u001b[1;32m--> 755\u001b[0m     \u001b[38;5;28;43mself\u001b[39;49m\u001b[38;5;241;43m.\u001b[39;49m\u001b[43m_cmysql\u001b[49m\u001b[38;5;241;43m.\u001b[39;49m\u001b[43mquery\u001b[49m\u001b[43m(\u001b[49m\n\u001b[0;32m    756\u001b[0m \u001b[43m        \u001b[49m\u001b[43mquery\u001b[49m\u001b[43m,\u001b[49m\n\u001b[0;32m    757\u001b[0m \u001b[43m        \u001b[49m\u001b[43mraw\u001b[49m\u001b[38;5;241;43m=\u001b[39;49m\u001b[43mraw\u001b[49m\u001b[43m,\u001b[49m\n\u001b[0;32m    758\u001b[0m \u001b[43m        \u001b[49m\u001b[43mbuffered\u001b[49m\u001b[38;5;241;43m=\u001b[39;49m\u001b[43mbuffered\u001b[49m\u001b[43m,\u001b[49m\n\u001b[0;32m    759\u001b[0m \u001b[43m        \u001b[49m\u001b[43mraw_as_string\u001b[49m\u001b[38;5;241;43m=\u001b[39;49m\u001b[43mraw_as_string\u001b[49m\u001b[43m,\u001b[49m\n\u001b[0;32m    760\u001b[0m \u001b[43m        \u001b[49m\u001b[43mquery_attrs\u001b[49m\u001b[38;5;241;43m=\u001b[39;49m\u001b[38;5;28;43mself\u001b[39;49m\u001b[38;5;241;43m.\u001b[39;49m\u001b[43mquery_attrs\u001b[49m\u001b[43m,\u001b[49m\n\u001b[0;32m    761\u001b[0m \u001b[43m    \u001b[49m\u001b[43m)\u001b[49m\n\u001b[0;32m    762\u001b[0m \u001b[38;5;28;01mexcept\u001b[39;00m MySQLInterfaceError \u001b[38;5;28;01mas\u001b[39;00m err:\n",
      "\u001b[1;31mMySQLInterfaceError\u001b[0m: Table 'bootcamp.cell_phones' doesn't exist",
      "\nThe above exception was the direct cause of the following exception:\n",
      "\u001b[1;31mProgrammingError\u001b[0m                          Traceback (most recent call last)",
      "Cell \u001b[1;32mIn[9], line 30\u001b[0m\n\u001b[0;32m     28\u001b[0m \u001b[38;5;66;03m# Insert Data into MySQL, handling NULL values correctly\u001b[39;00m\n\u001b[0;32m     29\u001b[0m \u001b[38;5;28;01mfor\u001b[39;00m _, row \u001b[38;5;129;01min\u001b[39;00m cell_df\u001b[38;5;241m.\u001b[39miterrows():\n\u001b[1;32m---> 30\u001b[0m     \u001b[43mcursor\u001b[49m\u001b[38;5;241;43m.\u001b[39;49m\u001b[43mexecute\u001b[49m\u001b[43m(\u001b[49m\u001b[38;5;124;43m\"\"\"\u001b[39;49m\n\u001b[0;32m     31\u001b[0m \u001b[38;5;124;43m        INSERT INTO cell_phones (country, year, total_cellphones)\u001b[39;49m\n\u001b[0;32m     32\u001b[0m \u001b[38;5;124;43m        VALUES (\u001b[39;49m\u001b[38;5;132;43;01m%s\u001b[39;49;00m\u001b[38;5;124;43m, \u001b[39;49m\u001b[38;5;132;43;01m%s\u001b[39;49;00m\u001b[38;5;124;43m, \u001b[39;49m\u001b[38;5;132;43;01m%s\u001b[39;49;00m\u001b[38;5;124;43m)\u001b[39;49m\n\u001b[0;32m     33\u001b[0m \u001b[38;5;124;43m    \u001b[39;49m\u001b[38;5;124;43m\"\"\"\u001b[39;49m\u001b[43m,\u001b[49m\u001b[43m \u001b[49m\u001b[43m(\u001b[49m\u001b[43mrow\u001b[49m\u001b[43m[\u001b[49m\u001b[38;5;124;43m\"\u001b[39;49m\u001b[38;5;124;43mcountry\u001b[39;49m\u001b[38;5;124;43m\"\u001b[39;49m\u001b[43m]\u001b[49m\u001b[43m,\u001b[49m\u001b[43m \u001b[49m\u001b[43mrow\u001b[49m\u001b[43m[\u001b[49m\u001b[38;5;124;43m\"\u001b[39;49m\u001b[38;5;124;43myear\u001b[39;49m\u001b[38;5;124;43m\"\u001b[39;49m\u001b[43m]\u001b[49m\u001b[43m,\u001b[49m\u001b[43m \u001b[49m\u001b[43mrow\u001b[49m\u001b[43m[\u001b[49m\u001b[38;5;124;43m\"\u001b[39;49m\u001b[38;5;124;43mtotal_cellphones\u001b[39;49m\u001b[38;5;124;43m\"\u001b[39;49m\u001b[43m]\u001b[49m\u001b[43m)\u001b[49m\u001b[43m)\u001b[49m\n\u001b[0;32m     35\u001b[0m \u001b[38;5;28;01mfor\u001b[39;00m _, row \u001b[38;5;129;01min\u001b[39;00m population_df\u001b[38;5;241m.\u001b[39miterrows():\n\u001b[0;32m     36\u001b[0m     cursor\u001b[38;5;241m.\u001b[39mexecute(\u001b[38;5;124m\"\"\"\u001b[39m\n\u001b[0;32m     37\u001b[0m \u001b[38;5;124m        INSERT INTO population (country, year, total_population)\u001b[39m\n\u001b[0;32m     38\u001b[0m \u001b[38;5;124m        VALUES (\u001b[39m\u001b[38;5;132;01m%s\u001b[39;00m\u001b[38;5;124m, \u001b[39m\u001b[38;5;132;01m%s\u001b[39;00m\u001b[38;5;124m, \u001b[39m\u001b[38;5;132;01m%s\u001b[39;00m\u001b[38;5;124m)\u001b[39m\n\u001b[0;32m     39\u001b[0m \u001b[38;5;124m    \u001b[39m\u001b[38;5;124m\"\"\"\u001b[39m, (row[\u001b[38;5;124m\"\u001b[39m\u001b[38;5;124mcountry\u001b[39m\u001b[38;5;124m\"\u001b[39m], row[\u001b[38;5;124m\"\u001b[39m\u001b[38;5;124myear\u001b[39m\u001b[38;5;124m\"\u001b[39m], row[\u001b[38;5;124m\"\u001b[39m\u001b[38;5;124mtotal_population\u001b[39m\u001b[38;5;124m\"\u001b[39m]))\n",
      "File \u001b[1;32mC:\\Python313\\Lib\\site-packages\\mysql\\connector\\cursor_cext.py:351\u001b[0m, in \u001b[0;36mCMySQLCursor.execute\u001b[1;34m(self, operation, params, map_results)\u001b[0m\n\u001b[0;32m    343\u001b[0m \u001b[38;5;28mself\u001b[39m\u001b[38;5;241m.\u001b[39m_executed \u001b[38;5;241m=\u001b[39m (\n\u001b[0;32m    344\u001b[0m     \u001b[38;5;28mself\u001b[39m\u001b[38;5;241m.\u001b[39m_stmt_partition[\u001b[38;5;124m\"\u001b[39m\u001b[38;5;124msingle_stmts\u001b[39m\u001b[38;5;124m\"\u001b[39m]\u001b[38;5;241m.\u001b[39mpopleft()\n\u001b[0;32m    345\u001b[0m     \u001b[38;5;28;01mif\u001b[39;00m map_results\n\u001b[0;32m    346\u001b[0m     \u001b[38;5;28;01melse\u001b[39;00m \u001b[38;5;28mself\u001b[39m\u001b[38;5;241m.\u001b[39m_stmt_partition[\u001b[38;5;124m\"\u001b[39m\u001b[38;5;124mmappable_stmt\u001b[39m\u001b[38;5;124m\"\u001b[39m]\n\u001b[0;32m    347\u001b[0m )\n\u001b[0;32m    349\u001b[0m \u001b[38;5;28;01mtry\u001b[39;00m:\n\u001b[0;32m    350\u001b[0m     \u001b[38;5;28mself\u001b[39m\u001b[38;5;241m.\u001b[39m_handle_result(\n\u001b[1;32m--> 351\u001b[0m         \u001b[38;5;28;43mself\u001b[39;49m\u001b[38;5;241;43m.\u001b[39;49m\u001b[43m_connection\u001b[49m\u001b[38;5;241;43m.\u001b[39;49m\u001b[43mcmd_query\u001b[49m\u001b[43m(\u001b[49m\n\u001b[0;32m    352\u001b[0m \u001b[43m            \u001b[49m\u001b[38;5;28;43mself\u001b[39;49m\u001b[38;5;241;43m.\u001b[39;49m\u001b[43m_stmt_partition\u001b[49m\u001b[43m[\u001b[49m\u001b[38;5;124;43m\"\u001b[39;49m\u001b[38;5;124;43mmappable_stmt\u001b[39;49m\u001b[38;5;124;43m\"\u001b[39;49m\u001b[43m]\u001b[49m\u001b[43m,\u001b[49m\n\u001b[0;32m    353\u001b[0m \u001b[43m            \u001b[49m\u001b[43mraw\u001b[49m\u001b[38;5;241;43m=\u001b[39;49m\u001b[38;5;28;43mself\u001b[39;49m\u001b[38;5;241;43m.\u001b[39;49m\u001b[43m_raw\u001b[49m\u001b[43m,\u001b[49m\n\u001b[0;32m    354\u001b[0m \u001b[43m            \u001b[49m\u001b[43mbuffered\u001b[49m\u001b[38;5;241;43m=\u001b[39;49m\u001b[38;5;28;43mself\u001b[39;49m\u001b[38;5;241;43m.\u001b[39;49m\u001b[43m_buffered\u001b[49m\u001b[43m,\u001b[49m\n\u001b[0;32m    355\u001b[0m \u001b[43m            \u001b[49m\u001b[43mraw_as_string\u001b[49m\u001b[38;5;241;43m=\u001b[39;49m\u001b[38;5;28;43mself\u001b[39;49m\u001b[38;5;241;43m.\u001b[39;49m\u001b[43m_raw_as_string\u001b[49m\u001b[43m,\u001b[49m\n\u001b[0;32m    356\u001b[0m \u001b[43m        \u001b[49m\u001b[43m)\u001b[49m\n\u001b[0;32m    357\u001b[0m     )\n\u001b[0;32m    358\u001b[0m \u001b[38;5;28;01mexcept\u001b[39;00m MySQLInterfaceError \u001b[38;5;28;01mas\u001b[39;00m err:\n\u001b[0;32m    359\u001b[0m     \u001b[38;5;28;01mraise\u001b[39;00m get_mysql_exception(\n\u001b[0;32m    360\u001b[0m         msg\u001b[38;5;241m=\u001b[39merr\u001b[38;5;241m.\u001b[39mmsg, errno\u001b[38;5;241m=\u001b[39merr\u001b[38;5;241m.\u001b[39merrno, sqlstate\u001b[38;5;241m=\u001b[39merr\u001b[38;5;241m.\u001b[39msqlstate\n\u001b[0;32m    361\u001b[0m     ) \u001b[38;5;28;01mfrom\u001b[39;00m\u001b[38;5;250m \u001b[39m\u001b[38;5;21;01merr\u001b[39;00m\n",
      "File \u001b[1;32mC:\\Python313\\Lib\\site-packages\\mysql\\connector\\opentelemetry\\context_propagation.py:97\u001b[0m, in \u001b[0;36mwith_context_propagation.<locals>.wrapper\u001b[1;34m(cnx, *args, **kwargs)\u001b[0m\n\u001b[0;32m     95\u001b[0m \u001b[38;5;66;03m# pylint: disable=possibly-used-before-assignment\u001b[39;00m\n\u001b[0;32m     96\u001b[0m \u001b[38;5;28;01mif\u001b[39;00m \u001b[38;5;129;01mnot\u001b[39;00m OTEL_ENABLED \u001b[38;5;129;01mor\u001b[39;00m \u001b[38;5;129;01mnot\u001b[39;00m cnx\u001b[38;5;241m.\u001b[39motel_context_propagation:\n\u001b[1;32m---> 97\u001b[0m     \u001b[38;5;28;01mreturn\u001b[39;00m \u001b[43mmethod\u001b[49m\u001b[43m(\u001b[49m\u001b[43mcnx\u001b[49m\u001b[43m,\u001b[49m\u001b[43m \u001b[49m\u001b[38;5;241;43m*\u001b[39;49m\u001b[43margs\u001b[49m\u001b[43m,\u001b[49m\u001b[43m \u001b[49m\u001b[38;5;241;43m*\u001b[39;49m\u001b[38;5;241;43m*\u001b[39;49m\u001b[43mkwargs\u001b[49m\u001b[43m)\u001b[49m\n\u001b[0;32m     99\u001b[0m current_span \u001b[38;5;241m=\u001b[39m trace\u001b[38;5;241m.\u001b[39mget_current_span()\n\u001b[0;32m    100\u001b[0m tp_header \u001b[38;5;241m=\u001b[39m \u001b[38;5;28;01mNone\u001b[39;00m\n",
      "File \u001b[1;32mC:\\Python313\\Lib\\site-packages\\mysql\\connector\\connection_cext.py:763\u001b[0m, in \u001b[0;36mCMySQLConnection.cmd_query\u001b[1;34m(self, query, raw, buffered, raw_as_string, **kwargs)\u001b[0m\n\u001b[0;32m    755\u001b[0m     \u001b[38;5;28mself\u001b[39m\u001b[38;5;241m.\u001b[39m_cmysql\u001b[38;5;241m.\u001b[39mquery(\n\u001b[0;32m    756\u001b[0m         query,\n\u001b[0;32m    757\u001b[0m         raw\u001b[38;5;241m=\u001b[39mraw,\n\u001b[1;32m   (...)\u001b[0m\n\u001b[0;32m    760\u001b[0m         query_attrs\u001b[38;5;241m=\u001b[39m\u001b[38;5;28mself\u001b[39m\u001b[38;5;241m.\u001b[39mquery_attrs,\n\u001b[0;32m    761\u001b[0m     )\n\u001b[0;32m    762\u001b[0m \u001b[38;5;28;01mexcept\u001b[39;00m MySQLInterfaceError \u001b[38;5;28;01mas\u001b[39;00m err:\n\u001b[1;32m--> 763\u001b[0m     \u001b[38;5;28;01mraise\u001b[39;00m get_mysql_exception(\n\u001b[0;32m    764\u001b[0m         err\u001b[38;5;241m.\u001b[39merrno, msg\u001b[38;5;241m=\u001b[39merr\u001b[38;5;241m.\u001b[39mmsg, sqlstate\u001b[38;5;241m=\u001b[39merr\u001b[38;5;241m.\u001b[39msqlstate\n\u001b[0;32m    765\u001b[0m     ) \u001b[38;5;28;01mfrom\u001b[39;00m\u001b[38;5;250m \u001b[39m\u001b[38;5;21;01merr\u001b[39;00m\n\u001b[0;32m    766\u001b[0m \u001b[38;5;28;01mexcept\u001b[39;00m \u001b[38;5;167;01mAttributeError\u001b[39;00m \u001b[38;5;28;01mas\u001b[39;00m err:\n\u001b[0;32m    767\u001b[0m     addr \u001b[38;5;241m=\u001b[39m (\n\u001b[0;32m    768\u001b[0m         \u001b[38;5;28mself\u001b[39m\u001b[38;5;241m.\u001b[39m_unix_socket \u001b[38;5;28;01mif\u001b[39;00m \u001b[38;5;28mself\u001b[39m\u001b[38;5;241m.\u001b[39m_unix_socket \u001b[38;5;28;01melse\u001b[39;00m \u001b[38;5;124mf\u001b[39m\u001b[38;5;124m\"\u001b[39m\u001b[38;5;132;01m{\u001b[39;00m\u001b[38;5;28mself\u001b[39m\u001b[38;5;241m.\u001b[39m_host\u001b[38;5;132;01m}\u001b[39;00m\u001b[38;5;124m:\u001b[39m\u001b[38;5;132;01m{\u001b[39;00m\u001b[38;5;28mself\u001b[39m\u001b[38;5;241m.\u001b[39m_port\u001b[38;5;132;01m}\u001b[39;00m\u001b[38;5;124m\"\u001b[39m\n\u001b[0;32m    769\u001b[0m     )\n",
      "\u001b[1;31mProgrammingError\u001b[0m: 1146 (42S02): Table 'bootcamp.cell_phones' doesn't exist"
     ]
    }
   ],
   "source": [
    "import pandas as pd\n",
    "import mysql.connector\n",
    "\n",
    "# Load CSV Files\n",
    "cell_df = pd.read_csv(\"cell_phones_total.csv\")\n",
    "population_df = pd.read_csv(\"pop.csv\")\n",
    "\n",
    "# Melt the DataFrame to convert year columns into rows\n",
    "cell_df = cell_df.melt(id_vars=[\"country\"], var_name=\"year\", value_name=\"total_cellphones\")\n",
    "population_df = population_df.melt(id_vars=[\"country\"], var_name=\"year\", value_name=\"total_population\")\n",
    "\n",
    "# Convert 'year' column to integer\n",
    "cell_df[\"year\"] = cell_df[\"year\"].astype(int)\n",
    "population_df[\"year\"] = population_df[\"year\"].astype(int)\n",
    "\n",
    "# Convert non-numeric values to NaN, then replace with None for MySQL NULL\n",
    "cell_df[\"total_cellphones\"] = pd.to_numeric(cell_df[\"total_cellphones\"], errors=\"coerce\").replace({pd.NA: None})\n",
    "population_df[\"total_population\"] = pd.to_numeric(population_df[\"total_population\"], errors=\"coerce\").replace({pd.NA: None})\n",
    "\n",
    "# Connect to MySQL\n",
    "conn = mysql.connector.connect(\n",
    "    host=\"localhost\",\n",
    "    user=\"root\",\n",
    "    password=\"root\",\n",
    "    database= \"bootcamp\"\n",
    ")\n",
    "cursor = conn.cursor()\n",
    "# Insert Data into MySQL, handling NULL values correctly\n",
    "for _, row in cell_df.iterrows():\n",
    "    cursor.execute(\"\"\"\n",
    "        INSERT INTO cell_phones (country, year, total_cellphones)\n",
    "        VALUES (%s, %s, %s)\n",
    "    \"\"\", (row[\"country\"], row[\"year\"], row[\"total_cellphones\"]))\n",
    "\n",
    "for _, row in population_df.iterrows():\n",
    "    cursor.execute(\"\"\"\n",
    "        INSERT INTO population (country, year, total_population)\n",
    "        VALUES (%s, %s, %s)\n",
    "    \"\"\", (row[\"country\"], row[\"year\"], row[\"total_population\"]))\n",
    "\n",
    "# Commit and Close Connection\n",
    "conn.commit()\n",
    "cursor.close()\n",
    "conn.close()\n",
    "print(\"✅ Data successfully inserted into MySQL!\")\n"
   ]
  },
  {
   "cell_type": "code",
   "execution_count": 10,
   "id": "6f8aa02d-cb6e-497c-b997-c283e8da0df7",
   "metadata": {},
   "outputs": [
    {
     "name": "stdout",
     "output_type": "stream",
     "text": [
      "✅ Tables created successfully!\n"
     ]
    },
    {
     "ename": "ProgrammingError",
     "evalue": "1054 (42S22): Unknown column 'nan' in 'field list'",
     "output_type": "error",
     "traceback": [
      "\u001b[1;31m---------------------------------------------------------------------------\u001b[0m",
      "\u001b[1;31mMySQLInterfaceError\u001b[0m                       Traceback (most recent call last)",
      "File \u001b[1;32mC:\\Python313\\Lib\\site-packages\\mysql\\connector\\connection_cext.py:755\u001b[0m, in \u001b[0;36mCMySQLConnection.cmd_query\u001b[1;34m(self, query, raw, buffered, raw_as_string, **kwargs)\u001b[0m\n\u001b[0;32m    754\u001b[0m         query \u001b[38;5;241m=\u001b[39m query\u001b[38;5;241m.\u001b[39mencode(\u001b[38;5;124m\"\u001b[39m\u001b[38;5;124mutf-8\u001b[39m\u001b[38;5;124m\"\u001b[39m)\n\u001b[1;32m--> 755\u001b[0m     \u001b[38;5;28;43mself\u001b[39;49m\u001b[38;5;241;43m.\u001b[39;49m\u001b[43m_cmysql\u001b[49m\u001b[38;5;241;43m.\u001b[39;49m\u001b[43mquery\u001b[49m\u001b[43m(\u001b[49m\n\u001b[0;32m    756\u001b[0m \u001b[43m        \u001b[49m\u001b[43mquery\u001b[49m\u001b[43m,\u001b[49m\n\u001b[0;32m    757\u001b[0m \u001b[43m        \u001b[49m\u001b[43mraw\u001b[49m\u001b[38;5;241;43m=\u001b[39;49m\u001b[43mraw\u001b[49m\u001b[43m,\u001b[49m\n\u001b[0;32m    758\u001b[0m \u001b[43m        \u001b[49m\u001b[43mbuffered\u001b[49m\u001b[38;5;241;43m=\u001b[39;49m\u001b[43mbuffered\u001b[49m\u001b[43m,\u001b[49m\n\u001b[0;32m    759\u001b[0m \u001b[43m        \u001b[49m\u001b[43mraw_as_string\u001b[49m\u001b[38;5;241;43m=\u001b[39;49m\u001b[43mraw_as_string\u001b[49m\u001b[43m,\u001b[49m\n\u001b[0;32m    760\u001b[0m \u001b[43m        \u001b[49m\u001b[43mquery_attrs\u001b[49m\u001b[38;5;241;43m=\u001b[39;49m\u001b[38;5;28;43mself\u001b[39;49m\u001b[38;5;241;43m.\u001b[39;49m\u001b[43mquery_attrs\u001b[49m\u001b[43m,\u001b[49m\n\u001b[0;32m    761\u001b[0m \u001b[43m    \u001b[49m\u001b[43m)\u001b[49m\n\u001b[0;32m    762\u001b[0m \u001b[38;5;28;01mexcept\u001b[39;00m MySQLInterfaceError \u001b[38;5;28;01mas\u001b[39;00m err:\n",
      "\u001b[1;31mMySQLInterfaceError\u001b[0m: Unknown column 'nan' in 'field list'",
      "\nThe above exception was the direct cause of the following exception:\n",
      "\u001b[1;31mProgrammingError\u001b[0m                          Traceback (most recent call last)",
      "Cell \u001b[1;32mIn[10], line 53\u001b[0m\n\u001b[0;32m     51\u001b[0m \u001b[38;5;66;03m# Insert Data into MySQL, handling NULL values correctly\u001b[39;00m\n\u001b[0;32m     52\u001b[0m \u001b[38;5;28;01mfor\u001b[39;00m _, row \u001b[38;5;129;01min\u001b[39;00m cell_df\u001b[38;5;241m.\u001b[39miterrows():\n\u001b[1;32m---> 53\u001b[0m     \u001b[43mcursor\u001b[49m\u001b[38;5;241;43m.\u001b[39;49m\u001b[43mexecute\u001b[49m\u001b[43m(\u001b[49m\u001b[38;5;124;43m\"\"\"\u001b[39;49m\n\u001b[0;32m     54\u001b[0m \u001b[38;5;124;43m        INSERT INTO cell_phones (country, year, total_cellphones)\u001b[39;49m\n\u001b[0;32m     55\u001b[0m \u001b[38;5;124;43m        VALUES (\u001b[39;49m\u001b[38;5;132;43;01m%s\u001b[39;49;00m\u001b[38;5;124;43m, \u001b[39;49m\u001b[38;5;132;43;01m%s\u001b[39;49;00m\u001b[38;5;124;43m, \u001b[39;49m\u001b[38;5;132;43;01m%s\u001b[39;49;00m\u001b[38;5;124;43m)\u001b[39;49m\n\u001b[0;32m     56\u001b[0m \u001b[38;5;124;43m        ON DUPLICATE KEY UPDATE total_cellphones = VALUES(total_cellphones)\u001b[39;49m\n\u001b[0;32m     57\u001b[0m \u001b[38;5;124;43m    \u001b[39;49m\u001b[38;5;124;43m\"\"\"\u001b[39;49m\u001b[43m,\u001b[49m\u001b[43m \u001b[49m\u001b[43m(\u001b[49m\u001b[43mrow\u001b[49m\u001b[43m[\u001b[49m\u001b[38;5;124;43m\"\u001b[39;49m\u001b[38;5;124;43mcountry\u001b[39;49m\u001b[38;5;124;43m\"\u001b[39;49m\u001b[43m]\u001b[49m\u001b[43m,\u001b[49m\u001b[43m \u001b[49m\u001b[43mrow\u001b[49m\u001b[43m[\u001b[49m\u001b[38;5;124;43m\"\u001b[39;49m\u001b[38;5;124;43myear\u001b[39;49m\u001b[38;5;124;43m\"\u001b[39;49m\u001b[43m]\u001b[49m\u001b[43m,\u001b[49m\u001b[43m \u001b[49m\u001b[43mrow\u001b[49m\u001b[43m[\u001b[49m\u001b[38;5;124;43m\"\u001b[39;49m\u001b[38;5;124;43mtotal_cellphones\u001b[39;49m\u001b[38;5;124;43m\"\u001b[39;49m\u001b[43m]\u001b[49m\u001b[43m)\u001b[49m\u001b[43m)\u001b[49m\n\u001b[0;32m     59\u001b[0m \u001b[38;5;28;01mfor\u001b[39;00m _, row \u001b[38;5;129;01min\u001b[39;00m population_df\u001b[38;5;241m.\u001b[39miterrows():\n\u001b[0;32m     60\u001b[0m     cursor\u001b[38;5;241m.\u001b[39mexecute(\u001b[38;5;124m\"\"\"\u001b[39m\n\u001b[0;32m     61\u001b[0m \u001b[38;5;124m        INSERT INTO population (country, year, total_population)\u001b[39m\n\u001b[0;32m     62\u001b[0m \u001b[38;5;124m        VALUES (\u001b[39m\u001b[38;5;132;01m%s\u001b[39;00m\u001b[38;5;124m, \u001b[39m\u001b[38;5;132;01m%s\u001b[39;00m\u001b[38;5;124m, \u001b[39m\u001b[38;5;132;01m%s\u001b[39;00m\u001b[38;5;124m)\u001b[39m\n\u001b[0;32m     63\u001b[0m \u001b[38;5;124m        ON DUPLICATE KEY UPDATE total_population = VALUES(total_population)\u001b[39m\n\u001b[0;32m     64\u001b[0m \u001b[38;5;124m    \u001b[39m\u001b[38;5;124m\"\"\"\u001b[39m, (row[\u001b[38;5;124m\"\u001b[39m\u001b[38;5;124mcountry\u001b[39m\u001b[38;5;124m\"\u001b[39m], row[\u001b[38;5;124m\"\u001b[39m\u001b[38;5;124myear\u001b[39m\u001b[38;5;124m\"\u001b[39m], row[\u001b[38;5;124m\"\u001b[39m\u001b[38;5;124mtotal_population\u001b[39m\u001b[38;5;124m\"\u001b[39m]))\n",
      "File \u001b[1;32mC:\\Python313\\Lib\\site-packages\\mysql\\connector\\cursor_cext.py:351\u001b[0m, in \u001b[0;36mCMySQLCursor.execute\u001b[1;34m(self, operation, params, map_results)\u001b[0m\n\u001b[0;32m    343\u001b[0m \u001b[38;5;28mself\u001b[39m\u001b[38;5;241m.\u001b[39m_executed \u001b[38;5;241m=\u001b[39m (\n\u001b[0;32m    344\u001b[0m     \u001b[38;5;28mself\u001b[39m\u001b[38;5;241m.\u001b[39m_stmt_partition[\u001b[38;5;124m\"\u001b[39m\u001b[38;5;124msingle_stmts\u001b[39m\u001b[38;5;124m\"\u001b[39m]\u001b[38;5;241m.\u001b[39mpopleft()\n\u001b[0;32m    345\u001b[0m     \u001b[38;5;28;01mif\u001b[39;00m map_results\n\u001b[0;32m    346\u001b[0m     \u001b[38;5;28;01melse\u001b[39;00m \u001b[38;5;28mself\u001b[39m\u001b[38;5;241m.\u001b[39m_stmt_partition[\u001b[38;5;124m\"\u001b[39m\u001b[38;5;124mmappable_stmt\u001b[39m\u001b[38;5;124m\"\u001b[39m]\n\u001b[0;32m    347\u001b[0m )\n\u001b[0;32m    349\u001b[0m \u001b[38;5;28;01mtry\u001b[39;00m:\n\u001b[0;32m    350\u001b[0m     \u001b[38;5;28mself\u001b[39m\u001b[38;5;241m.\u001b[39m_handle_result(\n\u001b[1;32m--> 351\u001b[0m         \u001b[38;5;28;43mself\u001b[39;49m\u001b[38;5;241;43m.\u001b[39;49m\u001b[43m_connection\u001b[49m\u001b[38;5;241;43m.\u001b[39;49m\u001b[43mcmd_query\u001b[49m\u001b[43m(\u001b[49m\n\u001b[0;32m    352\u001b[0m \u001b[43m            \u001b[49m\u001b[38;5;28;43mself\u001b[39;49m\u001b[38;5;241;43m.\u001b[39;49m\u001b[43m_stmt_partition\u001b[49m\u001b[43m[\u001b[49m\u001b[38;5;124;43m\"\u001b[39;49m\u001b[38;5;124;43mmappable_stmt\u001b[39;49m\u001b[38;5;124;43m\"\u001b[39;49m\u001b[43m]\u001b[49m\u001b[43m,\u001b[49m\n\u001b[0;32m    353\u001b[0m \u001b[43m            \u001b[49m\u001b[43mraw\u001b[49m\u001b[38;5;241;43m=\u001b[39;49m\u001b[38;5;28;43mself\u001b[39;49m\u001b[38;5;241;43m.\u001b[39;49m\u001b[43m_raw\u001b[49m\u001b[43m,\u001b[49m\n\u001b[0;32m    354\u001b[0m \u001b[43m            \u001b[49m\u001b[43mbuffered\u001b[49m\u001b[38;5;241;43m=\u001b[39;49m\u001b[38;5;28;43mself\u001b[39;49m\u001b[38;5;241;43m.\u001b[39;49m\u001b[43m_buffered\u001b[49m\u001b[43m,\u001b[49m\n\u001b[0;32m    355\u001b[0m \u001b[43m            \u001b[49m\u001b[43mraw_as_string\u001b[49m\u001b[38;5;241;43m=\u001b[39;49m\u001b[38;5;28;43mself\u001b[39;49m\u001b[38;5;241;43m.\u001b[39;49m\u001b[43m_raw_as_string\u001b[49m\u001b[43m,\u001b[49m\n\u001b[0;32m    356\u001b[0m \u001b[43m        \u001b[49m\u001b[43m)\u001b[49m\n\u001b[0;32m    357\u001b[0m     )\n\u001b[0;32m    358\u001b[0m \u001b[38;5;28;01mexcept\u001b[39;00m MySQLInterfaceError \u001b[38;5;28;01mas\u001b[39;00m err:\n\u001b[0;32m    359\u001b[0m     \u001b[38;5;28;01mraise\u001b[39;00m get_mysql_exception(\n\u001b[0;32m    360\u001b[0m         msg\u001b[38;5;241m=\u001b[39merr\u001b[38;5;241m.\u001b[39mmsg, errno\u001b[38;5;241m=\u001b[39merr\u001b[38;5;241m.\u001b[39merrno, sqlstate\u001b[38;5;241m=\u001b[39merr\u001b[38;5;241m.\u001b[39msqlstate\n\u001b[0;32m    361\u001b[0m     ) \u001b[38;5;28;01mfrom\u001b[39;00m\u001b[38;5;250m \u001b[39m\u001b[38;5;21;01merr\u001b[39;00m\n",
      "File \u001b[1;32mC:\\Python313\\Lib\\site-packages\\mysql\\connector\\opentelemetry\\context_propagation.py:97\u001b[0m, in \u001b[0;36mwith_context_propagation.<locals>.wrapper\u001b[1;34m(cnx, *args, **kwargs)\u001b[0m\n\u001b[0;32m     95\u001b[0m \u001b[38;5;66;03m# pylint: disable=possibly-used-before-assignment\u001b[39;00m\n\u001b[0;32m     96\u001b[0m \u001b[38;5;28;01mif\u001b[39;00m \u001b[38;5;129;01mnot\u001b[39;00m OTEL_ENABLED \u001b[38;5;129;01mor\u001b[39;00m \u001b[38;5;129;01mnot\u001b[39;00m cnx\u001b[38;5;241m.\u001b[39motel_context_propagation:\n\u001b[1;32m---> 97\u001b[0m     \u001b[38;5;28;01mreturn\u001b[39;00m \u001b[43mmethod\u001b[49m\u001b[43m(\u001b[49m\u001b[43mcnx\u001b[49m\u001b[43m,\u001b[49m\u001b[43m \u001b[49m\u001b[38;5;241;43m*\u001b[39;49m\u001b[43margs\u001b[49m\u001b[43m,\u001b[49m\u001b[43m \u001b[49m\u001b[38;5;241;43m*\u001b[39;49m\u001b[38;5;241;43m*\u001b[39;49m\u001b[43mkwargs\u001b[49m\u001b[43m)\u001b[49m\n\u001b[0;32m     99\u001b[0m current_span \u001b[38;5;241m=\u001b[39m trace\u001b[38;5;241m.\u001b[39mget_current_span()\n\u001b[0;32m    100\u001b[0m tp_header \u001b[38;5;241m=\u001b[39m \u001b[38;5;28;01mNone\u001b[39;00m\n",
      "File \u001b[1;32mC:\\Python313\\Lib\\site-packages\\mysql\\connector\\connection_cext.py:763\u001b[0m, in \u001b[0;36mCMySQLConnection.cmd_query\u001b[1;34m(self, query, raw, buffered, raw_as_string, **kwargs)\u001b[0m\n\u001b[0;32m    755\u001b[0m     \u001b[38;5;28mself\u001b[39m\u001b[38;5;241m.\u001b[39m_cmysql\u001b[38;5;241m.\u001b[39mquery(\n\u001b[0;32m    756\u001b[0m         query,\n\u001b[0;32m    757\u001b[0m         raw\u001b[38;5;241m=\u001b[39mraw,\n\u001b[1;32m   (...)\u001b[0m\n\u001b[0;32m    760\u001b[0m         query_attrs\u001b[38;5;241m=\u001b[39m\u001b[38;5;28mself\u001b[39m\u001b[38;5;241m.\u001b[39mquery_attrs,\n\u001b[0;32m    761\u001b[0m     )\n\u001b[0;32m    762\u001b[0m \u001b[38;5;28;01mexcept\u001b[39;00m MySQLInterfaceError \u001b[38;5;28;01mas\u001b[39;00m err:\n\u001b[1;32m--> 763\u001b[0m     \u001b[38;5;28;01mraise\u001b[39;00m get_mysql_exception(\n\u001b[0;32m    764\u001b[0m         err\u001b[38;5;241m.\u001b[39merrno, msg\u001b[38;5;241m=\u001b[39merr\u001b[38;5;241m.\u001b[39mmsg, sqlstate\u001b[38;5;241m=\u001b[39merr\u001b[38;5;241m.\u001b[39msqlstate\n\u001b[0;32m    765\u001b[0m     ) \u001b[38;5;28;01mfrom\u001b[39;00m\u001b[38;5;250m \u001b[39m\u001b[38;5;21;01merr\u001b[39;00m\n\u001b[0;32m    766\u001b[0m \u001b[38;5;28;01mexcept\u001b[39;00m \u001b[38;5;167;01mAttributeError\u001b[39;00m \u001b[38;5;28;01mas\u001b[39;00m err:\n\u001b[0;32m    767\u001b[0m     addr \u001b[38;5;241m=\u001b[39m (\n\u001b[0;32m    768\u001b[0m         \u001b[38;5;28mself\u001b[39m\u001b[38;5;241m.\u001b[39m_unix_socket \u001b[38;5;28;01mif\u001b[39;00m \u001b[38;5;28mself\u001b[39m\u001b[38;5;241m.\u001b[39m_unix_socket \u001b[38;5;28;01melse\u001b[39;00m \u001b[38;5;124mf\u001b[39m\u001b[38;5;124m\"\u001b[39m\u001b[38;5;132;01m{\u001b[39;00m\u001b[38;5;28mself\u001b[39m\u001b[38;5;241m.\u001b[39m_host\u001b[38;5;132;01m}\u001b[39;00m\u001b[38;5;124m:\u001b[39m\u001b[38;5;132;01m{\u001b[39;00m\u001b[38;5;28mself\u001b[39m\u001b[38;5;241m.\u001b[39m_port\u001b[38;5;132;01m}\u001b[39;00m\u001b[38;5;124m\"\u001b[39m\n\u001b[0;32m    769\u001b[0m     )\n",
      "\u001b[1;31mProgrammingError\u001b[0m: 1054 (42S22): Unknown column 'nan' in 'field list'"
     ]
    }
   ],
   "source": [
    "import pandas as pd\n",
    "import mysql.connector\n",
    "\n",
    "# Load CSV Files\n",
    "cell_df = pd.read_csv(\"cell_phones_total.csv\")\n",
    "population_df = pd.read_csv(\"pop.csv\")\n",
    "\n",
    "# Melt the DataFrame to convert year columns into rows\n",
    "cell_df = cell_df.melt(id_vars=[\"country\"], var_name=\"year\", value_name=\"total_cellphones\")\n",
    "population_df = population_df.melt(id_vars=[\"country\"], var_name=\"year\", value_name=\"total_population\")\n",
    "\n",
    "# Convert 'year' column to integer\n",
    "cell_df[\"year\"] = cell_df[\"year\"].astype(int)\n",
    "population_df[\"year\"] = population_df[\"year\"].astype(int)\n",
    "\n",
    "# Convert non-numeric values to NaN, then replace with None for MySQL NULL\n",
    "cell_df[\"total_cellphones\"] = pd.to_numeric(cell_df[\"total_cellphones\"], errors=\"coerce\").replace({pd.NA: None})\n",
    "population_df[\"total_population\"] = pd.to_numeric(population_df[\"total_population\"], errors=\"coerce\").replace({pd.NA: None})\n",
    "\n",
    "# Connect to MySQL\n",
    "conn = mysql.connector.connect(\n",
    "    host=\"localhost\",\n",
    "    user=\"root\",\n",
    "    password=\"root\",\n",
    "    database=\"bootcamp\"\n",
    ")\n",
    "cursor = conn.cursor()\n",
    "\n",
    "# Create Tables if not exists\n",
    "cursor.execute(\"\"\"\n",
    "    CREATE TABLE IF NOT EXISTS cell_phones (\n",
    "        country VARCHAR(255),\n",
    "        year INT,\n",
    "        total_cellphones BIGINT,\n",
    "        PRIMARY KEY (country, year)\n",
    "    )\n",
    "\"\"\")\n",
    "\n",
    "cursor.execute(\"\"\"\n",
    "    CREATE TABLE IF NOT EXISTS population (\n",
    "        country VARCHAR(255),\n",
    "        year INT,\n",
    "        total_population BIGINT,\n",
    "        PRIMARY KEY (country, year)\n",
    "    )\n",
    "\"\"\")\n",
    "\n",
    "conn.commit()\n",
    "print(\"✅ Tables created successfully!\")\n",
    "\n",
    "# Insert Data into MySQL, handling NULL values correctly\n",
    "for _, row in cell_df.iterrows():\n",
    "    cursor.execute(\"\"\"\n",
    "        INSERT INTO cell_phones (country, year, total_cellphones)\n",
    "        VALUES (%s, %s, %s)\n",
    "        ON DUPLICATE KEY UPDATE total_cellphones = VALUES(total_cellphones)\n",
    "    \"\"\", (row[\"country\"], row[\"year\"], row[\"total_cellphones\"]))\n",
    "\n",
    "for _, row in population_df.iterrows():\n",
    "    cursor.execute(\"\"\"\n",
    "        INSERT INTO population (country, year, total_population)\n",
    "        VALUES (%s, %s, %s)\n",
    "        ON DUPLICATE KEY UPDATE total_population = VALUES(total_population)\n",
    "    \"\"\", (row[\"country\"], row[\"year\"], row[\"total_population\"]))\n",
    "\n",
    "# Commit and Close Connection\n",
    "conn.commit()\n",
    "cursor.close()\n",
    "conn.close()\n",
    "print(\"✅ Data successfully inserted into MySQL!\")"
   ]
  },
  {
   "cell_type": "code",
   "execution_count": 14,
   "id": "88cfade6-d695-48c4-bb30-3a78c4c1f71d",
   "metadata": {},
   "outputs": [
    {
     "name": "stdout",
     "output_type": "stream",
     "text": [
      "✅ Tables created successfully!\n",
      "✅ Data successfully inserted into MySQL!\n"
     ]
    }
   ],
   "source": [
    "import pandas as pd\n",
    "import mysql.connector\n",
    "import numpy as np\n",
    "\n",
    "# Load CSV Files\n",
    "cell_df = pd.read_csv(\"cell_phones_total.csv\")\n",
    "population_df = pd.read_csv(\"pop.csv\")\n",
    "\n",
    "# Melt DataFrames to convert year columns into rows\n",
    "cell_df = cell_df.melt(id_vars=[\"country\"], var_name=\"year\", value_name=\"total_cellphones\")\n",
    "population_df = population_df.melt(id_vars=[\"country\"], var_name=\"year\", value_name=\"total_population\")\n",
    "\n",
    "# Convert 'year' column to integer\n",
    "cell_df[\"year\"] = pd.to_numeric(cell_df[\"year\"], errors=\"coerce\").astype(\"Int64\")\n",
    "population_df[\"year\"] = pd.to_numeric(population_df[\"year\"], errors=\"coerce\").astype(\"Int64\")\n",
    "\n",
    "# Convert non-numeric values to NaN, then replace with None for MySQL NULL\n",
    "cell_df[\"total_cellphones\"] = pd.to_numeric(cell_df[\"total_cellphones\"], errors=\"coerce\").replace({np.nan: None})\n",
    "population_df[\"total_population\"] = pd.to_numeric(population_df[\"total_population\"], errors=\"coerce\").replace({np.nan: None})\n",
    "\n",
    "# ✅ Connect to MySQL\n",
    "conn = mysql.connector.connect(\n",
    "    host=\"localhost\",\n",
    "    user=\"root\",\n",
    "    password=\"root\",\n",
    "    database=\"bootcamp\"\n",
    ")\n",
    "cursor = conn.cursor()\n",
    "\n",
    "# ✅ Create Tables in MySQL\n",
    "cursor.execute(\"\"\"\n",
    "    CREATE TABLE IF NOT EXISTS cell_phones (\n",
    "        country VARCHAR(255),\n",
    "        year INT,\n",
    "        total_cellphones BIGINT,\n",
    "        PRIMARY KEY (country, year)\n",
    "    )\n",
    "\"\"\")\n",
    "\n",
    "cursor.execute(\"\"\"\n",
    "    CREATE TABLE IF NOT EXISTS population (\n",
    "        country VARCHAR(255),\n",
    "        year INT,\n",
    "        total_population BIGINT,\n",
    "        PRIMARY KEY (country, year)\n",
    "    )\n",
    "\"\"\")\n",
    "\n",
    "conn.commit()\n",
    "print(\"✅ Tables created successfully!\")\n",
    "\n",
    "# ✅ Insert Data into MySQL, handling NULL values correctly\n",
    "for _, row in cell_df.iterrows():\n",
    "    cursor.execute(\"\"\"\n",
    "        INSERT INTO cell_phones (country, year, total_cellphones)\n",
    "        VALUES (%s, %s, %s)\n",
    "        ON DUPLICATE KEY UPDATE total_cellphones = VALUES(total_cellphones)\n",
    "    \"\"\", (row[\"country\"], row[\"year\"], row[\"total_cellphones\"]))\n",
    "\n",
    "for _, row in population_df.iterrows():\n",
    "    cursor.execute(\"\"\"\n",
    "        INSERT INTO population (country, year, total_population)\n",
    "        VALUES (%s, %s, %s)\n",
    "        ON DUPLICATE KEY UPDATE total_population = VALUES(total_population)\n",
    "    \"\"\", (row[\"country\"], row[\"year\"], row[\"total_population\"]))\n",
    "\n",
    "# ✅ Commit and Close Connection\n",
    "conn.commit()\n",
    "cursor.close()\n",
    "conn.close()\n",
    "print(\"✅ Data successfully inserted into MySQL!\")\n"
   ]
  },
  {
   "cell_type": "code",
   "execution_count": null,
   "id": "a4c8a385-e880-472b-bbd0-2e1b9a4a7b81",
   "metadata": {},
   "outputs": [],
   "source": []
  }
 ],
 "metadata": {
  "kernelspec": {
   "display_name": "Python 3 (ipykernel)",
   "language": "python",
   "name": "python3"
  },
  "language_info": {
   "codemirror_mode": {
    "name": "ipython",
    "version": 3
   },
   "file_extension": ".py",
   "mimetype": "text/x-python",
   "name": "python",
   "nbconvert_exporter": "python",
   "pygments_lexer": "ipython3",
   "version": "3.13.1"
  }
 },
 "nbformat": 4,
 "nbformat_minor": 5
}
